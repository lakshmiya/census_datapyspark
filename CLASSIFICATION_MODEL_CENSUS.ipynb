{
  "nbformat": 4,
  "nbformat_minor": 0,
  "metadata": {
    "colab": {
      "name": "Untitled42.ipynb",
      "provenance": [],
      "collapsed_sections": []
    },
    "kernelspec": {
      "name": "python3",
      "display_name": "Python 3"
    },
    "language_info": {
      "name": "python"
    }
  },
  "cells": [
    {
      "cell_type": "code",
      "metadata": {
        "colab": {
          "base_uri": "https://localhost:8080/"
        },
        "id": "njKHGek2x_eB",
        "outputId": "0dc16f43-b9e7-46cc-a0b2-90e3a622cff5"
      },
      "source": [
        "!apt-get install openjdk-8-jdk-headless -qq > /dev/null\n",
        "!wget -q https://downloads.apache.org/spark/spark-3.1.1/spark-3.1.1-bin-hadoop2.7.tgz\n",
        "!tar -xvf spark-3.1.1-bin-hadoop2.7.tgz\n",
        "!pip install -q findspark\n",
        "!pip install pyspark"
      ],
      "execution_count": 1,
      "outputs": [
        {
          "output_type": "stream",
          "text": [
            "tar: spark-3.1.1-bin-hadoop2.7.tgz: Cannot open: No such file or directory\n",
            "tar: Error is not recoverable: exiting now\n",
            "Requirement already satisfied: pyspark in /usr/local/lib/python3.7/dist-packages (3.1.2)\n",
            "Requirement already satisfied: py4j==0.10.9 in /usr/local/lib/python3.7/dist-packages (from pyspark) (0.10.9)\n"
          ],
          "name": "stdout"
        }
      ]
    },
    {
      "cell_type": "code",
      "metadata": {
        "id": "4YAKTZNnyEZB"
      },
      "source": [
        "from pyspark.sql import SparkSession"
      ],
      "execution_count": 2,
      "outputs": []
    },
    {
      "cell_type": "code",
      "metadata": {
        "id": "HyO_cGszyZef"
      },
      "source": [
        "from pyspark import SparkConf,SparkContext"
      ],
      "execution_count": 3,
      "outputs": []
    },
    {
      "cell_type": "code",
      "metadata": {
        "id": "P9aMfT4Wybqj"
      },
      "source": [
        "from pyspark.sql import SQLContext\n",
        "sc = SparkContext()\n",
        "sql_context = SQLContext(sc)"
      ],
      "execution_count": 4,
      "outputs": []
    },
    {
      "cell_type": "code",
      "metadata": {
        "id": "LHykPuu1OyQD"
      },
      "source": [
        "spark = SparkSession.builder.appName(\"census_data\").getOrCreate()"
      ],
      "execution_count": 5,
      "outputs": []
    },
    {
      "cell_type": "code",
      "metadata": {
        "id": "xgzCNoaTO10k"
      },
      "source": [
        "data = spark.read.csv('/content/censusdata.csv', header = True)"
      ],
      "execution_count": 6,
      "outputs": []
    },
    {
      "cell_type": "code",
      "metadata": {
        "colab": {
          "base_uri": "https://localhost:8080/"
        },
        "id": "FE7tMI-LRnrK",
        "outputId": "fbf0796b-d73c-4379-f209-a7ffcf1c4876"
      },
      "source": [
        "data.printSchema()"
      ],
      "execution_count": 7,
      "outputs": [
        {
          "output_type": "stream",
          "text": [
            "root\n",
            " |-- age: string (nullable = true)\n",
            " |-- workclass: string (nullable = true)\n",
            " |-- fnlwgt: string (nullable = true)\n",
            " |-- education: string (nullable = true)\n",
            " |-- education_num: string (nullable = true)\n",
            " |-- marital_status: string (nullable = true)\n",
            " |-- occupation: string (nullable = true)\n",
            " |-- relationship: string (nullable = true)\n",
            " |-- race: string (nullable = true)\n",
            " |-- sex: string (nullable = true)\n",
            " |-- capital_gain: string (nullable = true)\n",
            " |-- capital_loss: string (nullable = true)\n",
            " |-- hours_per_week: string (nullable = true)\n",
            " |-- native_country: string (nullable = true)\n",
            " |-- income: string (nullable = true)\n",
            "\n"
          ],
          "name": "stdout"
        }
      ]
    },
    {
      "cell_type": "code",
      "metadata": {
        "id": "2FoNBVQ9SO0f"
      },
      "source": [
        "#Data Preprocessing\n",
        "type_cast=['age','fnlwgt','education_num','capital_gain','capital_loss','hours_per_week',]\n",
        "for i in type_cast: \n",
        "    data= data.withColumn(i,data[i].cast(\"double\"))\n"
      ],
      "execution_count": 8,
      "outputs": []
    },
    {
      "cell_type": "code",
      "metadata": {
        "colab": {
          "base_uri": "https://localhost:8080/",
          "height": 519
        },
        "id": "Oj20pSi1S3dM",
        "outputId": "4ff93825-c763-4506-ac96-51cdaa818792"
      },
      "source": [
        "import pandas as pd\n",
        "pd.DataFrame({'column':data.columns,'type':data.dtypes})"
      ],
      "execution_count": 9,
      "outputs": [
        {
          "output_type": "execute_result",
          "data": {
            "text/html": [
              "<div>\n",
              "<style scoped>\n",
              "    .dataframe tbody tr th:only-of-type {\n",
              "        vertical-align: middle;\n",
              "    }\n",
              "\n",
              "    .dataframe tbody tr th {\n",
              "        vertical-align: top;\n",
              "    }\n",
              "\n",
              "    .dataframe thead th {\n",
              "        text-align: right;\n",
              "    }\n",
              "</style>\n",
              "<table border=\"1\" class=\"dataframe\">\n",
              "  <thead>\n",
              "    <tr style=\"text-align: right;\">\n",
              "      <th></th>\n",
              "      <th>column</th>\n",
              "      <th>type</th>\n",
              "    </tr>\n",
              "  </thead>\n",
              "  <tbody>\n",
              "    <tr>\n",
              "      <th>0</th>\n",
              "      <td>age</td>\n",
              "      <td>(age, double)</td>\n",
              "    </tr>\n",
              "    <tr>\n",
              "      <th>1</th>\n",
              "      <td>workclass</td>\n",
              "      <td>(workclass, string)</td>\n",
              "    </tr>\n",
              "    <tr>\n",
              "      <th>2</th>\n",
              "      <td>fnlwgt</td>\n",
              "      <td>(fnlwgt, double)</td>\n",
              "    </tr>\n",
              "    <tr>\n",
              "      <th>3</th>\n",
              "      <td>education</td>\n",
              "      <td>(education, string)</td>\n",
              "    </tr>\n",
              "    <tr>\n",
              "      <th>4</th>\n",
              "      <td>education_num</td>\n",
              "      <td>(education_num, double)</td>\n",
              "    </tr>\n",
              "    <tr>\n",
              "      <th>5</th>\n",
              "      <td>marital_status</td>\n",
              "      <td>(marital_status, string)</td>\n",
              "    </tr>\n",
              "    <tr>\n",
              "      <th>6</th>\n",
              "      <td>occupation</td>\n",
              "      <td>(occupation, string)</td>\n",
              "    </tr>\n",
              "    <tr>\n",
              "      <th>7</th>\n",
              "      <td>relationship</td>\n",
              "      <td>(relationship, string)</td>\n",
              "    </tr>\n",
              "    <tr>\n",
              "      <th>8</th>\n",
              "      <td>race</td>\n",
              "      <td>(race, string)</td>\n",
              "    </tr>\n",
              "    <tr>\n",
              "      <th>9</th>\n",
              "      <td>sex</td>\n",
              "      <td>(sex, string)</td>\n",
              "    </tr>\n",
              "    <tr>\n",
              "      <th>10</th>\n",
              "      <td>capital_gain</td>\n",
              "      <td>(capital_gain, double)</td>\n",
              "    </tr>\n",
              "    <tr>\n",
              "      <th>11</th>\n",
              "      <td>capital_loss</td>\n",
              "      <td>(capital_loss, double)</td>\n",
              "    </tr>\n",
              "    <tr>\n",
              "      <th>12</th>\n",
              "      <td>hours_per_week</td>\n",
              "      <td>(hours_per_week, double)</td>\n",
              "    </tr>\n",
              "    <tr>\n",
              "      <th>13</th>\n",
              "      <td>native_country</td>\n",
              "      <td>(native_country, string)</td>\n",
              "    </tr>\n",
              "    <tr>\n",
              "      <th>14</th>\n",
              "      <td>income</td>\n",
              "      <td>(income, string)</td>\n",
              "    </tr>\n",
              "  </tbody>\n",
              "</table>\n",
              "</div>"
            ],
            "text/plain": [
              "            column                      type\n",
              "0              age             (age, double)\n",
              "1        workclass       (workclass, string)\n",
              "2           fnlwgt          (fnlwgt, double)\n",
              "3        education       (education, string)\n",
              "4    education_num   (education_num, double)\n",
              "5   marital_status  (marital_status, string)\n",
              "6       occupation      (occupation, string)\n",
              "7     relationship    (relationship, string)\n",
              "8             race            (race, string)\n",
              "9              sex             (sex, string)\n",
              "10    capital_gain    (capital_gain, double)\n",
              "11    capital_loss    (capital_loss, double)\n",
              "12  hours_per_week  (hours_per_week, double)\n",
              "13  native_country  (native_country, string)\n",
              "14          income          (income, string)"
            ]
          },
          "metadata": {
            "tags": []
          },
          "execution_count": 9
        }
      ]
    },
    {
      "cell_type": "code",
      "metadata": {
        "id": "tnUzf6E6RjmL"
      },
      "source": [
        "#Category Indexing & One-Hot Encoding\n",
        "#Category Indexing using string indexing for all categorical columns\n",
        "\n",
        "from pyspark.ml.feature import StringIndexer, OneHotEncoder\n",
        "categoricalCols = [\"workclass\", \"education\", \"marital_status\", \"occupation\", \"relationship\", \"race\", \"sex\"] \n",
        "# The following two lines are estimators. They return functions that we will later apply to transform the dataset.\n",
        "stringIndexer = StringIndexer(inputCols=categoricalCols, outputCols=[x + \"Index\" for x in categoricalCols]) \n",
        "encoder = OneHotEncoder(inputCols=stringIndexer.getOutputCols(), outputCols=[x + \"OHE\" for x in categoricalCols])  \n",
        "\n",
        "#Label Indexing for income column as income\n",
        "# The label column (\"income\") is also a string value - it has two possible values, \"<=50K\" and \">50K\". \n",
        "# Convert it to a numeric value using StringIndexer.\n",
        "labelToIndex = StringIndexer(inputCol=\"income\", outputCol=\"label\")"
      ],
      "execution_count": 10,
      "outputs": []
    },
    {
      "cell_type": "code",
      "metadata": {
        "id": "8aR5Eq9pTB8o"
      },
      "source": [
        "from pyspark.ml.feature import VectorAssembler \n",
        "#Use Vector assembler to get a single vector column for features\n",
        "# This includes both the numeric columns and the one-hot encoded binary vector columns in our dataset.\n",
        "numericCols = [\"age\", \"fnlwgt\", \"education_num\", \"capital_gain\", \"capital_loss\", \"hours_per_week\"]\n",
        "assemblerInputs = [c + \"OHE\" for c in categoricalCols] + numericCols\n",
        "vecAssembler = VectorAssembler(inputCols=assemblerInputs, outputCol=\"features\")"
      ],
      "execution_count": 11,
      "outputs": []
    },
    {
      "cell_type": "markdown",
      "metadata": {
        "id": "kRzEpR73NyF6"
      },
      "source": [
        "**Logistic Regression**\n",
        "\n",
        "\n",
        "\n"
      ]
    },
    {
      "cell_type": "code",
      "metadata": {
        "id": "oK5Wc3TETWmj"
      },
      "source": [
        "from pyspark.ml.classification import LogisticRegression \n",
        "lr = LogisticRegression(featuresCol=\"features\", labelCol=\"label\", regParam=1.0)"
      ],
      "execution_count": 12,
      "outputs": []
    },
    {
      "cell_type": "code",
      "metadata": {
        "colab": {
          "base_uri": "https://localhost:8080/"
        },
        "id": "wER_CSjgTcM2",
        "outputId": "5565a2d9-3b98-4d17-c0cd-16dbccfa5f15"
      },
      "source": [
        "from pyspark.ml import Pipeline \n",
        "#Make it as an array of stages so that it can be passed to a pipeline \n",
        "# Define the pipeline based on the stages created in previous steps.\n",
        "#Generate a DataFrame which can hold a variety of datatypes including feature vector\n",
        "pipeline = Pipeline(stages=[stringIndexer, encoder, labelToIndex, vecAssembler, lr]) \n",
        "# Define the pipeline model.\n",
        "#Estimator that can fit on a DataFrame to produce a model\n",
        "pipelineModel = pipeline.fit(data) \n",
        "# Apply the pipeline model to the test dataset.\n",
        "#Transform the DataFrame with features to DataFrame with predictions\n",
        "predDF = pipelineModel.transform(data)\n",
        "#Check the distribution of income in  dataset\n",
        "predDF.show()"
      ],
      "execution_count": 53,
      "outputs": [
        {
          "output_type": "stream",
          "text": [
            "+----+----------------+--------+------------+-------------+------------------+-----------------+--------------+-----+------+------------+------------+--------------+--------------+------+--------------+---------+---------------+-----------------+--------------+-------------------+--------+---------------+-------------+-------------+-----------------+--------------+-------------+---------------+-----+--------------------+--------------------+--------------------+----------+\n",
            "| age|       workclass|  fnlwgt|   education|education_num|    marital_status|       occupation|  relationship| race|   sex|capital_gain|capital_loss|hours_per_week|native_country|income|educationIndex|raceIndex|occupationIndex|relationshipIndex|workclassIndex|marital_statusIndex|sexIndex|relationshipOHE|       sexOHE|      raceOHE|marital_statusOHE|  educationOHE| workclassOHE|  occupationOHE|label|            features|       rawPrediction|         probability|prediction|\n",
            "+----+----------------+--------+------------+-------------+------------------+-----------------+--------------+-----+------+------------+------------+--------------+--------------+------+--------------+---------+---------------+-----------------+--------------+-------------------+--------+---------------+-------------+-------------+-----------------+--------------+-------------+---------------+-----+--------------------+--------------------+--------------------+----------+\n",
            "|22.0|         Private|148187.0|        11th|          7.0|     Never-married|    Other-service|Other-relative|White|  Male|         0.0|         0.0|          40.0| United-States| <=50K|           5.0|      0.0|            5.0|              5.0|           0.0|                1.0|     0.0|      (5,[],[])|(1,[0],[1.0])|(4,[0],[1.0])|    (6,[1],[1.0])|(15,[5],[1.0])|(8,[0],[1.0])| (14,[5],[1.0])|  0.0|(59,[0,13,24,34,4...|[1.85826447162693...|[0.86509452981037...|       0.0|\n",
            "|77.0|Self-emp-not-inc|138714.0|Some-college|         10.0|Married-civ-spouse|            Sales|       Husband|White|  Male|         0.0|         0.0|          40.0| United-States| <=50K|           1.0|      0.0|            4.0|              0.0|           1.0|                0.0|     0.0|  (5,[0],[1.0])|(1,[0],[1.0])|(4,[0],[1.0])|    (6,[0],[1.0])|(15,[1],[1.0])|(8,[1],[1.0])| (14,[4],[1.0])|  0.0|(59,[1,9,23,33,43...|[0.66032572945849...|[0.65933355525970...|       0.0|\n",
            "|47.0|               ?|224108.0|     HS-grad|          9.0|           Widowed|                ?|     Unmarried|White|Female|         0.0|         0.0|          40.0| United-States| <=50K|           0.0|      0.0|            7.0|              3.0|           3.0|                4.0|     1.0|  (5,[3],[1.0])|    (1,[],[])|(4,[0],[1.0])|    (6,[4],[1.0])|(15,[0],[1.0])|(8,[3],[1.0])| (14,[7],[1.0])|  0.0|(59,[3,8,27,36,46...|[1.79706313804242...|[0.85779105665942...|       0.0|\n",
            "|23.0|         Private|314894.0|     HS-grad|          9.0|     Never-married|  Exec-managerial|     Own-child|White|Female|         0.0|         0.0|          45.0| United-States| <=50K|           0.0|      0.0|            2.0|              2.0|           0.0|                1.0|     1.0|  (5,[2],[1.0])|    (1,[],[])|(4,[0],[1.0])|    (6,[1],[1.0])|(15,[0],[1.0])|(8,[0],[1.0])| (14,[2],[1.0])|  0.0|(59,[0,8,24,31,45...|[1.67432751355968...|[0.84215193854704...|       0.0|\n",
            "|46.0|         Private|166181.0|Some-college|         10.0|     Never-married|     Adm-clerical|     Own-child|Black|Female|         0.0|         0.0|          36.0| United-States| <=50K|           1.0|      1.0|            3.0|              2.0|           0.0|                1.0|     1.0|  (5,[2],[1.0])|    (1,[],[])|(4,[1],[1.0])|    (6,[1],[1.0])|(15,[1],[1.0])|(8,[0],[1.0])| (14,[3],[1.0])|  0.0|(59,[0,9,24,32,45...|[1.89575321748336...|[0.86941011819593...|       0.0|\n",
            "|29.0|       State-gov|204516.0|     Masters|         14.0|Married-civ-spouse|   Prof-specialty|       Husband|White|  Male|         0.0|         0.0|          15.0| United-States| <=50K|           3.0|      0.0|            1.0|              0.0|           4.0|                0.0|     0.0|  (5,[0],[1.0])|(1,[0],[1.0])|(4,[0],[1.0])|    (6,[0],[1.0])|(15,[3],[1.0])|(8,[4],[1.0])| (14,[1],[1.0])|  0.0|(59,[4,11,23,30,4...|[0.49545759399273...|[0.62139125663716...|       0.0|\n",
            "|35.0|         Private|407913.0|     HS-grad|          9.0|         Separated|    Other-service| Not-in-family|Black|  Male|         0.0|         0.0|          40.0| United-States| <=50K|           0.0|      1.0|            5.0|              1.0|           0.0|                3.0|     0.0|  (5,[1],[1.0])|(1,[0],[1.0])|(4,[1],[1.0])|    (6,[3],[1.0])|(15,[0],[1.0])|(8,[0],[1.0])| (14,[5],[1.0])|  0.0|(59,[0,8,26,34,44...|[1.85867080923363...|[0.86514194480597...|       0.0|\n",
            "|28.0|         Private| 96219.0|   Bachelors|         13.0|Married-civ-spouse|    Other-service|          Wife|White|Female|         0.0|         0.0|          15.0| United-States| <=50K|           2.0|      0.0|            5.0|              4.0|           0.0|                0.0|     1.0|  (5,[4],[1.0])|    (1,[],[])|(4,[0],[1.0])|    (6,[0],[1.0])|(15,[2],[1.0])|(8,[0],[1.0])| (14,[5],[1.0])|  0.0|(59,[0,10,23,34,4...|[1.03068871249688...|[0.73704939532833...|       0.0|\n",
            "|58.0|    Self-emp-inc| 78104.0|     HS-grad|          9.0|Married-civ-spouse|  Exec-managerial|       Husband|White|  Male|         0.0|         0.0|          45.0| United-States| <=50K|           0.0|      0.0|            2.0|              0.0|           5.0|                0.0|     0.0|  (5,[0],[1.0])|(1,[0],[1.0])|(4,[0],[1.0])|    (6,[0],[1.0])|(15,[0],[1.0])|(8,[5],[1.0])| (14,[2],[1.0])|  0.0|(59,[5,8,23,31,43...|[0.46371526128173...|[0.61389516846277...|       0.0|\n",
            "|19.0|               ?|252292.0|     HS-grad|          9.0|     Never-married|                ?|     Own-child|White|  Male|         0.0|         0.0|          40.0| United-States| <=50K|           0.0|      0.0|            7.0|              2.0|           3.0|                1.0|     0.0|  (5,[2],[1.0])|(1,[0],[1.0])|(4,[0],[1.0])|    (6,[1],[1.0])|(15,[0],[1.0])|(8,[3],[1.0])| (14,[7],[1.0])|  0.0|(59,[3,8,24,36,45...|[1.92708980138986...|[0.87292695487783...|       0.0|\n",
            "|32.0|         Private|207668.0|     HS-grad|          9.0|Married-civ-spouse|     Craft-repair|       Husband|White|  Male|         0.0|         0.0|          50.0| United-States| <=50K|           0.0|      0.0|            0.0|              0.0|           0.0|                0.0|     0.0|  (5,[0],[1.0])|(1,[0],[1.0])|(4,[0],[1.0])|    (6,[0],[1.0])|(15,[0],[1.0])|(8,[0],[1.0])| (14,[0],[1.0])|  0.0|(59,[0,8,23,29,43...|[0.96268140128838...|[0.72365834501260...|       0.0|\n",
            "|67.0|Self-emp-not-inc|191380.0| Prof-school|         15.0|Married-civ-spouse|   Prof-specialty|       Husband|White|  Male|     20051.0|         0.0|          25.0| United-States|  >50K|           9.0|      0.0|            1.0|              0.0|           1.0|                0.0|     0.0|  (5,[0],[1.0])|(1,[0],[1.0])|(4,[0],[1.0])|    (6,[0],[1.0])|(15,[9],[1.0])|(8,[1],[1.0])| (14,[1],[1.0])|  1.0|(59,[1,17,23,30,4...|[-0.0218775251045...|[0.49453083686248...|       1.0|\n",
            "|47.0|       State-gov| 80914.0|     Masters|         14.0|Married-civ-spouse|  Exec-managerial|       Husband|White|  Male|         0.0|         0.0|          47.0| United-States|  >50K|           3.0|      0.0|            2.0|              0.0|           4.0|                0.0|     0.0|  (5,[0],[1.0])|(1,[0],[1.0])|(4,[0],[1.0])|    (6,[0],[1.0])|(15,[3],[1.0])|(8,[4],[1.0])| (14,[2],[1.0])|  1.0|(59,[4,11,23,31,4...|[0.22354318295838...|[0.55565422784358...|       0.0|\n",
            "|36.0|       Local-gov|241998.0|   Bachelors|         13.0|Married-civ-spouse|   Prof-specialty|       Husband|White|  Male|         0.0|      1672.0|          50.0| United-States| <=50K|           2.0|      0.0|            1.0|              0.0|           2.0|                0.0|     0.0|  (5,[0],[1.0])|(1,[0],[1.0])|(4,[0],[1.0])|    (6,[0],[1.0])|(15,[2],[1.0])|(8,[2],[1.0])| (14,[1],[1.0])|  0.0|(59,[2,10,23,30,4...|[0.21355897316438...|[0.55318775037499...|       0.0|\n",
            "|29.0|         Private|227890.0|     HS-grad|          9.0|     Never-married|  Protective-serv|Other-relative|Black|  Male|         0.0|         0.0|          40.0| United-States| <=50K|           0.0|      1.0|           12.0|              5.0|           0.0|                1.0|     0.0|      (5,[],[])|(1,[0],[1.0])|(4,[1],[1.0])|    (6,[1],[1.0])|(15,[0],[1.0])|(8,[0],[1.0])|(14,[12],[1.0])|  0.0|(59,[0,8,24,41,49...|[1.64443349973927...|[0.83813730206298...|       0.0|\n",
            "|26.0|     Federal-gov|276075.0|Some-college|         10.0|Married-civ-spouse|     Adm-clerical|       Husband|Black|  Male|         0.0|         0.0|          40.0| United-States| <=50K|           1.0|      1.0|            3.0|              0.0|           6.0|                0.0|     0.0|  (5,[0],[1.0])|(1,[0],[1.0])|(4,[1],[1.0])|    (6,[0],[1.0])|(15,[1],[1.0])|(8,[6],[1.0])| (14,[3],[1.0])|  0.0|(59,[6,9,23,32,43...|[0.97777691783900...|[0.72666688561070...|       0.0|\n",
            "|17.0|Self-emp-not-inc| 36218.0|        11th|          7.0|     Never-married|  Farming-fishing|     Own-child|White|  Male|         0.0|         0.0|          20.0| United-States| <=50K|           5.0|      0.0|           10.0|              2.0|           1.0|                1.0|     0.0|  (5,[2],[1.0])|(1,[0],[1.0])|(4,[0],[1.0])|    (6,[1],[1.0])|(15,[5],[1.0])|(8,[1],[1.0])|(14,[10],[1.0])|  0.0|(59,[1,13,24,39,4...|[2.08323836740439...|[0.88926333069280...|       0.0|\n",
            "|28.0|         Private|346406.0|     HS-grad|          9.0|Married-civ-spouse|Machine-op-inspct|       Husband|White|  Male|         0.0|      1672.0|          50.0| United-States| <=50K|           0.0|      0.0|            6.0|              0.0|           0.0|                0.0|     0.0|  (5,[0],[1.0])|(1,[0],[1.0])|(4,[0],[1.0])|    (6,[0],[1.0])|(15,[0],[1.0])|(8,[0],[1.0])| (14,[6],[1.0])|  0.0|(59,[0,8,23,35,43...|[0.86142836647346...|[0.70295899462446...|       0.0|\n",
            "|37.0|         Private| 77820.0|   Bachelors|         13.0|Married-civ-spouse|  Exec-managerial|       Husband|White|  Male|         0.0|         0.0|          50.0| United-States|  >50K|           2.0|      0.0|            2.0|              0.0|           0.0|                0.0|     0.0|  (5,[0],[1.0])|(1,[0],[1.0])|(4,[0],[1.0])|    (6,[0],[1.0])|(15,[2],[1.0])|(8,[0],[1.0])| (14,[2],[1.0])|  1.0|(59,[0,10,23,31,4...|[0.40260660654121...|[0.59931376393051...|       0.0|\n",
            "|60.0|               ?| 56248.0|     HS-grad|          9.0|Married-civ-spouse|                ?|       Husband|White|  Male|         0.0|      1485.0|          70.0| United-States|  >50K|           0.0|      0.0|            7.0|              0.0|           3.0|                0.0|     0.0|  (5,[0],[1.0])|(1,[0],[1.0])|(4,[0],[1.0])|    (6,[0],[1.0])|(15,[0],[1.0])|(8,[3],[1.0])| (14,[7],[1.0])|  1.0|(59,[3,8,23,36,43...|[0.70434663830983...|[0.66915077231820...|       0.0|\n",
            "+----+----------------+--------+------------+-------------+------------------+-----------------+--------------+-----+------+------------+------------+--------------+--------------+------+--------------+---------+---------------+-----------------+--------------+-------------------+--------+---------------+-------------+-------------+-----------------+--------------+-------------+---------------+-----+--------------------+--------------------+--------------------+----------+\n",
            "only showing top 20 rows\n",
            "\n"
          ],
          "name": "stdout"
        }
      ]
    },
    {
      "cell_type": "code",
      "metadata": {
        "colab": {
          "base_uri": "https://localhost:8080/"
        },
        "id": "8QTdhRECTkF7",
        "outputId": "641bb66b-fb8a-43d2-e0db-c0bffb80998f"
      },
      "source": [
        "#Check the shape of the datasets\n",
        "trainDF, testDF = data.randomSplit([0.8, 0.2], seed=42)\n",
        "print(trainDF.count()) \n",
        "print(testDF.count())"
      ],
      "execution_count": 14,
      "outputs": [
        {
          "output_type": "stream",
          "text": [
            "74021\n",
            "18540\n"
          ],
          "name": "stdout"
        }
      ]
    },
    {
      "cell_type": "code",
      "metadata": {
        "colab": {
          "base_uri": "https://localhost:8080/"
        },
        "id": "AHcHrCg4TvHS",
        "outputId": "be22ebeb-35dd-4e84-a3de-0b88cf800292"
      },
      "source": [
        "from pyspark.ml import Pipeline\n",
        "pipeline = Pipeline(stages=[stringIndexer, encoder, labelToIndex, vecAssembler, lr])\n",
        "pipelineModel = pipeline.fit(trainDF)\n",
        "predDF = pipelineModel.transform(testDF)\n",
        "#Check the distribution of income  (0,1) in train and test dataset\n",
        "predDF.show()"
      ],
      "execution_count": 57,
      "outputs": [
        {
          "output_type": "stream",
          "text": [
            "+----+-----------+--------+------------+-------------+--------------+------------+--------------+------------------+------+------------+------------+--------------+--------------+------+--------------+---------+---------------+-----------------+--------------+-------------------+--------+---------------+-------------+-------------+-----------------+--------------+-------------+--------------+-----+--------------------+--------------------+--------------------+----------+\n",
            "| age|  workclass|  fnlwgt|   education|education_num|marital_status|  occupation|  relationship|              race|   sex|capital_gain|capital_loss|hours_per_week|native_country|income|educationIndex|raceIndex|occupationIndex|relationshipIndex|workclassIndex|marital_statusIndex|sexIndex|relationshipOHE|       sexOHE|      raceOHE|marital_statusOHE|  educationOHE| workclassOHE| occupationOHE|label|            features|       rawPrediction|         probability|prediction|\n",
            "+----+-----------+--------+------------+-------------+--------------+------------+--------------+------------------+------+------------+------------+--------------+--------------+------+--------------+---------+---------------+-----------------+--------------+-------------------+--------+---------------+-------------+-------------+-----------------+--------------+-------------+--------------+-----+--------------------+--------------------+--------------------+----------+\n",
            "|17.0|          ?| 41643.0|        11th|          7.0| Never-married|           ?|     Own-child|             White|Female|         0.0|         0.0|          15.0| United-States| <=50K|           5.0|      0.0|            7.0|              2.0|           3.0|                1.0|     1.0|  (5,[2],[1.0])|    (1,[],[])|(4,[0],[1.0])|    (6,[1],[1.0])|(15,[5],[1.0])|(8,[3],[1.0])|(14,[7],[1.0])|  0.0|(59,[3,13,24,36,4...|[2.26603362260882...|[0.90602461792357...|       0.0|\n",
            "|17.0|          ?| 47407.0|        11th|          7.0| Never-married|           ?|     Own-child|             White|  Male|         0.0|         0.0|          10.0| United-States| <=50K|           5.0|      0.0|            7.0|              2.0|           3.0|                1.0|     0.0|  (5,[2],[1.0])|(1,[0],[1.0])|(4,[0],[1.0])|    (6,[1],[1.0])|(15,[5],[1.0])|(8,[3],[1.0])|(14,[7],[1.0])|  0.0|(59,[3,13,24,36,4...|[2.18415813118367...|[0.89881785810799...|       0.0|\n",
            "|17.0|          ?| 47407.0|        11th|          7.0| Never-married|           ?|     Own-child|             White|  Male|         0.0|         0.0|          10.0| United-States| <=50K|           5.0|      0.0|            7.0|              2.0|           3.0|                1.0|     0.0|  (5,[2],[1.0])|(1,[0],[1.0])|(4,[0],[1.0])|    (6,[1],[1.0])|(15,[5],[1.0])|(8,[3],[1.0])|(14,[7],[1.0])|  0.0|(59,[3,13,24,36,4...|[2.18415813118367...|[0.89881785810799...|       0.0|\n",
            "|17.0|          ?| 64785.0|        10th|          6.0| Never-married|           ?|     Own-child|             White|  Male|         0.0|         0.0|          30.0| United-States| <=50K|           7.0|      0.0|            7.0|              2.0|           3.0|                1.0|     0.0|  (5,[2],[1.0])|(1,[0],[1.0])|(4,[0],[1.0])|    (6,[1],[1.0])|(15,[7],[1.0])|(8,[3],[1.0])|(14,[7],[1.0])|  0.0|(59,[3,15,24,36,4...|[2.11926701741444...|[0.89276177528865...|       0.0|\n",
            "|17.0|          ?| 86786.0|        10th|          6.0| Never-married|           ?|     Own-child|             White|Female|         0.0|         0.0|          40.0| United-States| <=50K|           7.0|      0.0|            7.0|              2.0|           3.0|                1.0|     1.0|  (5,[2],[1.0])|    (1,[],[])|(4,[0],[1.0])|    (6,[1],[1.0])|(15,[7],[1.0])|(8,[3],[1.0])|(14,[7],[1.0])|  0.0|(59,[3,15,24,36,4...|[2.17667161124280...|[0.89813496591116...|       0.0|\n",
            "|17.0|          ?| 94366.0|        10th|          6.0| Never-married|           ?|Other-relative|             White|  Male|         0.0|         0.0|           6.0| United-States| <=50K|           7.0|      0.0|            7.0|              5.0|           3.0|                1.0|     0.0|      (5,[],[])|(1,[0],[1.0])|(4,[0],[1.0])|    (6,[1],[1.0])|(15,[7],[1.0])|(8,[3],[1.0])|(14,[7],[1.0])|  0.0|(59,[3,15,24,36,4...|[2.08050491728153...|[0.88899387021633...|       0.0|\n",
            "|17.0|          ?|110998.0|Some-college|         10.0| Never-married|           ?|     Own-child|Asian-Pac-Islander|Female|         0.0|         0.0|          40.0|   Philippines| <=50K|           1.0|      2.0|            7.0|              2.0|           3.0|                1.0|     1.0|  (5,[2],[1.0])|    (1,[],[])|(4,[2],[1.0])|    (6,[1],[1.0])|(15,[1],[1.0])|(8,[3],[1.0])|(14,[7],[1.0])|  0.0|(59,[3,9,24,36,45...|[2.00597128988325...|[0.88142260090840...|       0.0|\n",
            "|17.0|          ?|114798.0|        11th|          7.0| Never-married|           ?|     Own-child|             White|Female|         0.0|         0.0|          18.0| United-States| <=50K|           5.0|      0.0|            7.0|              2.0|           3.0|                1.0|     1.0|  (5,[2],[1.0])|    (1,[],[])|(4,[0],[1.0])|    (6,[1],[1.0])|(15,[5],[1.0])|(8,[3],[1.0])|(14,[7],[1.0])|  0.0|(59,[3,13,24,36,4...|[2.25043792062594...|[0.90468830254073...|       0.0|\n",
            "|17.0|          ?|144114.0|        10th|          6.0| Never-married|           ?|     Own-child|             White|  Male|         0.0|         0.0|          40.0| United-States| <=50K|           7.0|      0.0|            7.0|              2.0|           3.0|                1.0|     0.0|  (5,[2],[1.0])|(1,[0],[1.0])|(4,[0],[1.0])|    (6,[1],[1.0])|(15,[7],[1.0])|(8,[3],[1.0])|(14,[7],[1.0])|  0.0|(59,[3,15,24,36,4...|[2.06994055115835...|[0.88794704659273...|       0.0|\n",
            "|17.0|          ?|145258.0|        11th|          7.0| Never-married|           ?|Other-relative|             White|Female|         0.0|         0.0|          25.0| United-States| <=50K|           5.0|      0.0|            7.0|              5.0|           3.0|                1.0|     1.0|      (5,[],[])|    (1,[],[])|(4,[0],[1.0])|    (6,[1],[1.0])|(15,[5],[1.0])|(8,[3],[1.0])|(14,[7],[1.0])|  0.0|(59,[3,13,24,36,4...|[2.06272445173928...|[0.88722705323479...|       0.0|\n",
            "|17.0|          ?|145258.0|        11th|          7.0| Never-married|           ?|Other-relative|             White|Female|         0.0|         0.0|          25.0| United-States| <=50K|           5.0|      0.0|            7.0|              5.0|           3.0|                1.0|     1.0|      (5,[],[])|    (1,[],[])|(4,[0],[1.0])|    (6,[1],[1.0])|(15,[5],[1.0])|(8,[3],[1.0])|(14,[7],[1.0])|  0.0|(59,[3,13,24,36,4...|[2.06272445173928...|[0.88722705323479...|       0.0|\n",
            "|17.0|          ?|148769.0|     HS-grad|          9.0| Never-married|           ?|     Own-child|             Black|  Male|         0.0|         0.0|          40.0| United-States| <=50K|           0.0|      1.0|            7.0|              2.0|           3.0|                1.0|     0.0|  (5,[2],[1.0])|(1,[0],[1.0])|(4,[1],[1.0])|    (6,[1],[1.0])|(15,[0],[1.0])|(8,[3],[1.0])|(14,[7],[1.0])|  0.0|(59,[3,8,24,36,45...|[2.05785219299490...|[0.88673863785400...|       0.0|\n",
            "|17.0|          ?|158762.0|        10th|          6.0| Never-married|           ?|     Own-child|             White|Female|         0.0|         0.0|          20.0| United-States| <=50K|           7.0|      0.0|            7.0|              2.0|           3.0|                1.0|     1.0|  (5,[2],[1.0])|    (1,[],[])|(4,[0],[1.0])|    (6,[1],[1.0])|(15,[7],[1.0])|(8,[3],[1.0])|(14,[7],[1.0])|  0.0|(59,[3,15,24,36,4...|[2.27159673057678...|[0.90649721454143...|       0.0|\n",
            "|17.0|          ?|161259.0|        10th|          6.0| Never-married|           ?|Other-relative|             White|  Male|         0.0|         0.0|          12.0| United-States| <=50K|           7.0|      0.0|            7.0|              5.0|           3.0|                1.0|     0.0|      (5,[],[])|(1,[0],[1.0])|(4,[0],[1.0])|    (6,[1],[1.0])|(15,[7],[1.0])|(8,[3],[1.0])|(14,[7],[1.0])|  0.0|(59,[3,15,24,36,4...|[2.05059715640037...|[0.88600794414659...|       0.0|\n",
            "|17.0|          ?|172145.0|        10th|          6.0| Never-married|           ?|     Own-child|             Black|Female|         0.0|         0.0|          40.0| United-States| <=50K|           7.0|      1.0|            7.0|              2.0|           3.0|                1.0|     1.0|  (5,[2],[1.0])|    (1,[],[])|(4,[1],[1.0])|    (6,[1],[1.0])|(15,[7],[1.0])|(8,[3],[1.0])|(14,[7],[1.0])|  0.0|(59,[3,15,24,36,4...|[2.29606657069148...|[0.90855074972631...|       0.0|\n",
            "|17.0|          ?|210547.0|        10th|          6.0| Never-married|           ?|     Own-child|             White|  Male|         0.0|         0.0|          40.0| United-States| <=50K|           7.0|      0.0|            7.0|              2.0|           3.0|                1.0|     0.0|  (5,[2],[1.0])|(1,[0],[1.0])|(4,[0],[1.0])|    (6,[1],[1.0])|(15,[7],[1.0])|(8,[3],[1.0])|(14,[7],[1.0])|  0.0|(59,[3,15,24,36,4...|[2.06886677273510...|[0.88784016425172...|       0.0|\n",
            "|17.0|          ?|216595.0|        11th|          7.0| Never-married|           ?|     Own-child|             Black|Female|         0.0|         0.0|          20.0| United-States| <=50K|           5.0|      1.0|            7.0|              2.0|           3.0|                1.0|     1.0|  (5,[2],[1.0])|    (1,[],[])|(4,[1],[1.0])|    (6,[1],[1.0])|(15,[5],[1.0])|(8,[3],[1.0])|(14,[7],[1.0])|  0.0|(59,[3,13,24,36,4...|[2.35995833816665...|[0.91372252120524...|       0.0|\n",
            "|17.0|          ?|332666.0|        10th|          6.0| Never-married|           ?|     Own-child|             White|Female|         0.0|         0.0|           4.0| United-States| <=50K|           7.0|      0.0|            7.0|              2.0|           3.0|                1.0|     1.0|  (5,[2],[1.0])|    (1,[],[])|(4,[0],[1.0])|    (6,[1],[1.0])|(15,[7],[1.0])|(8,[3],[1.0])|(14,[7],[1.0])|  0.0|(59,[3,15,24,36,4...|[2.34565665591340...|[0.91258837570207...|       0.0|\n",
            "|17.0|          ?|634226.0|        10th|          6.0| Never-married|           ?|     Own-child|             White|Female|         0.0|         0.0|          17.0| United-States| <=50K|           7.0|      0.0|            7.0|              2.0|           3.0|                1.0|     1.0|  (5,[2],[1.0])|    (1,[],[])|(4,[0],[1.0])|    (6,[1],[1.0])|(15,[7],[1.0])|(8,[3],[1.0])|(14,[7],[1.0])|  0.0|(59,[3,15,24,36,4...|[2.27832492326782...|[0.90706593865085...|       0.0|\n",
            "|17.0|Federal-gov| 99893.0|        11th|          7.0| Never-married|Adm-clerical| Not-in-family|             Black|Female|         0.0|      1602.0|          40.0| United-States| <=50K|           5.0|      1.0|            3.0|              1.0|           6.0|                1.0|     1.0|  (5,[1],[1.0])|    (1,[],[])|(4,[1],[1.0])|    (6,[1],[1.0])|(15,[5],[1.0])|(8,[6],[1.0])|(14,[3],[1.0])|  0.0|(59,[6,13,24,32,4...|[1.84325924078353...|[0.86333371629983...|       0.0|\n",
            "+----+-----------+--------+------------+-------------+--------------+------------+--------------+------------------+------+------------+------------+--------------+--------------+------+--------------+---------+---------------+-----------------+--------------+-------------------+--------+---------------+-------------+-------------+-----------------+--------------+-------------+--------------+-----+--------------------+--------------------+--------------------+----------+\n",
            "only showing top 20 rows\n",
            "\n"
          ],
          "name": "stdout"
        }
      ]
    },
    {
      "cell_type": "code",
      "metadata": {
        "colab": {
          "base_uri": "https://localhost:8080/"
        },
        "id": "7iG9hrjtT5Bo",
        "outputId": "eff8f57f-ee1c-4224-f5da-772474744d18"
      },
      "source": [
        "from pyspark.ml.evaluation import BinaryClassificationEvaluator, MulticlassClassificationEvaluator\n",
        "bcEvaluator = BinaryClassificationEvaluator(metricName=\"areaUnderROC\")\n",
        "print(f\"Area under ROC curve: {bcEvaluator.evaluate(predDF)}\") \n",
        "mcEvaluator = MulticlassClassificationEvaluator(metricName=\"accuracy\")\n",
        "print(f\"Accuracy: {mcEvaluator.evaluate(predDF)}\")"
      ],
      "execution_count": 16,
      "outputs": [
        {
          "output_type": "stream",
          "text": [
            "Area under ROC curve: 0.8853375921167054\n",
            "Accuracy: 0.7660194174757281\n"
          ],
          "name": "stdout"
        }
      ]
    },
    {
      "cell_type": "code",
      "metadata": {
        "id": "VmkFo3UvUB8-"
      },
      "source": [
        "from pyspark.ml.tuning import ParamGridBuilder, CrossValidator \n",
        "paramGrid = (ParamGridBuilder()\n",
        "             .addGrid(lr.regParam, [0.01, 0.5, 2.0])\n",
        "             .addGrid(lr.elasticNetParam, [0.0, 0.5, 1.0])\n",
        "             .build())"
      ],
      "execution_count": 17,
      "outputs": []
    },
    {
      "cell_type": "code",
      "metadata": {
        "id": "V7xXTn2LUGU1"
      },
      "source": [
        "cv = CrossValidator(estimator=pipeline, estimatorParamMaps=paramGrid, evaluator=bcEvaluator, numFolds=3, parallelism = 4)"
      ],
      "execution_count": 18,
      "outputs": []
    },
    {
      "cell_type": "code",
      "metadata": {
        "id": "vKqhW78RUI8W"
      },
      "source": [
        "cvModel = cv.fit(trainDF)"
      ],
      "execution_count": 19,
      "outputs": []
    },
    {
      "cell_type": "code",
      "metadata": {
        "colab": {
          "base_uri": "https://localhost:8080/"
        },
        "id": "PshH3uaDUKiQ",
        "outputId": "2ba3d7dd-2292-4d9e-db24-31e6acb83446"
      },
      "source": [
        "cvPredDF = cvModel.transform(testDF) \n",
        "# Evaluate the model's performance based on area under the ROC curve and accuracy \n",
        "print(f\"Area under ROC curve: {bcEvaluator.evaluate(cvPredDF)}\")\n",
        "print(f\"Accuracy: {mcEvaluator.evaluate(cvPredDF)}\")"
      ],
      "execution_count": 20,
      "outputs": [
        {
          "output_type": "stream",
          "text": [
            "Area under ROC curve: 0.903470605230467\n",
            "Accuracy: 0.8444983818770226\n"
          ],
          "name": "stdout"
        }
      ]
    },
    {
      "cell_type": "markdown",
      "metadata": {
        "id": "YroZW2U8OGsr"
      },
      "source": [
        "**Decision Tree**\n"
      ]
    },
    {
      "cell_type": "code",
      "metadata": {
        "id": "pbtKj0poZDzk"
      },
      "source": [
        "from pyspark.ml.classification import DecisionTreeClassifier \n",
        "DT = DecisionTreeClassifier( featuresCol=\"features\" , labelCol=\"label\", maxDepth=5)"
      ],
      "execution_count": 21,
      "outputs": []
    },
    {
      "cell_type": "code",
      "metadata": {
        "id": "fktzkAYOZZOu"
      },
      "source": [
        "from pyspark.ml import Pipeline\n",
        "pipeline = Pipeline(stages=[stringIndexer, encoder, labelToIndex, vecAssembler, DT])\n",
        "pipelineModel = pipeline.fit(trainDF) \n",
        "predDF = pipelineModel.transform(testDF)"
      ],
      "execution_count": 22,
      "outputs": []
    },
    {
      "cell_type": "code",
      "metadata": {
        "colab": {
          "base_uri": "https://localhost:8080/"
        },
        "id": "PhUsuHwka405",
        "outputId": "f914ee73-e943-4360-d0d1-5c19e964b873"
      },
      "source": [
        "from pyspark.ml.evaluation import BinaryClassificationEvaluator\n",
        "evaluator = BinaryClassificationEvaluator()\n",
        "bcEvaluator = BinaryClassificationEvaluator(metricName=\"areaUnderROC\")\n",
        "print(f\"Area under ROC curve: {bcEvaluator.evaluate(predDF)}\")\n",
        "mcEvaluator = MulticlassClassificationEvaluator(metricName=\"accuracy\")\n",
        "print(f\"Accuracy: {mcEvaluator.evaluate(predDF)}\")"
      ],
      "execution_count": 23,
      "outputs": [
        {
          "output_type": "stream",
          "text": [
            "Area under ROC curve: 0.5884229151865182\n",
            "Accuracy: 0.8386192017259978\n"
          ],
          "name": "stdout"
        }
      ]
    },
    {
      "cell_type": "code",
      "metadata": {
        "id": "_eRhBjJGbB4F"
      },
      "source": [
        "from pyspark.ml.tuning import ParamGridBuilder, CrossValidator\n",
        "paramGrid = (ParamGridBuilder()\n",
        "             .addGrid(DT.maxDepth, [1, 2, 6, 10])\n",
        "             .addGrid(DT.maxBins, [20, 40, 80])\n",
        "             .build())"
      ],
      "execution_count": 24,
      "outputs": []
    },
    {
      "cell_type": "code",
      "metadata": {
        "id": "Gr2ElLHXbv2I"
      },
      "source": [
        "cv1 = CrossValidator(estimator=DT, estimatorParamMaps=paramGrid, evaluator=evaluator, numFolds=5)"
      ],
      "execution_count": 25,
      "outputs": []
    },
    {
      "cell_type": "code",
      "metadata": {
        "id": "9bQzet5Mb0KF"
      },
      "source": [
        "pipeline = Pipeline(stages=[stringIndexer, encoder, labelToIndex, vecAssembler, cv1])\n",
        "pipelineModel = pipeline.fit(trainDF)\n",
        "predDF = pipelineModel.transform(testDF)"
      ],
      "execution_count": 26,
      "outputs": []
    },
    {
      "cell_type": "code",
      "metadata": {
        "colab": {
          "base_uri": "https://localhost:8080/"
        },
        "id": "0WHMr8zzcptG",
        "outputId": "726a5eb5-e16b-4a0e-dff6-209a0c7d426b"
      },
      "source": [
        "bcEvaluator = BinaryClassificationEvaluator(metricName=\"areaUnderROC\")\n",
        "print(f\"Area under ROC curve: {bcEvaluator.evaluate(predDF)}\")\n",
        "mcEvaluator = MulticlassClassificationEvaluator(metricName=\"accuracy\")\n",
        "print(f\"Accuracy: {mcEvaluator.evaluate(predDF)}\")"
      ],
      "execution_count": 27,
      "outputs": [
        {
          "output_type": "stream",
          "text": [
            "Area under ROC curve: 0.7483473239032467\n",
            "Accuracy: 0.8654800431499461\n"
          ],
          "name": "stdout"
        }
      ]
    },
    {
      "cell_type": "markdown",
      "metadata": {
        "id": "3zjLckqLOMe3"
      },
      "source": [
        "**RANDOM FOREST**"
      ]
    },
    {
      "cell_type": "code",
      "metadata": {
        "id": "E91s2_MadoZy"
      },
      "source": [
        "from pyspark.ml.classification import RandomForestClassifier\n",
        "# Create an initial RandomForest model\n",
        "rf = RandomForestClassifier(labelCol=\"label\", featuresCol=\"features\")"
      ],
      "execution_count": 28,
      "outputs": []
    },
    {
      "cell_type": "code",
      "metadata": {
        "id": "zajasoz-dqc-"
      },
      "source": [
        "from pyspark.ml import Pipeline \n",
        "pipeline = Pipeline(stages=[stringIndexer, encoder, labelToIndex, vecAssembler, rf]) \n",
        "pipelineModel = pipeline.fit(trainDF)\n",
        "predDF = pipelineModel.transform(testDF)"
      ],
      "execution_count": 29,
      "outputs": []
    },
    {
      "cell_type": "code",
      "metadata": {
        "colab": {
          "base_uri": "https://localhost:8080/"
        },
        "id": "wp6pSuucdv4u",
        "outputId": "14fffb13-b089-4ee6-8150-c46592a1695e"
      },
      "source": [
        "from pyspark.ml.evaluation import BinaryClassificationEvaluator\n",
        "# Evaluate model\n",
        "evaluator = BinaryClassificationEvaluator()\n",
        "bcEvaluator = BinaryClassificationEvaluator(metricName=\"areaUnderROC\")\n",
        "print(f\"Area under ROC curve: {bcEvaluator.evaluate(predDF)}\")\n",
        "mcEvaluator = MulticlassClassificationEvaluator(metricName=\"accuracy\")\n",
        "print(f\"Accuracy: {mcEvaluator.evaluate(predDF)}\")"
      ],
      "execution_count": 30,
      "outputs": [
        {
          "output_type": "stream",
          "text": [
            "Area under ROC curve: 0.8841568239252947\n",
            "Accuracy: 0.8325782092772384\n"
          ],
          "name": "stdout"
        }
      ]
    },
    {
      "cell_type": "code",
      "metadata": {
        "id": "DMl7m6qId3pf"
      },
      "source": [
        "from pyspark.ml.tuning import ParamGridBuilder, CrossValidator\n",
        "paramGrid = (ParamGridBuilder()\n",
        "             .addGrid(rf.maxDepth, [2, 4, 6])\n",
        "             .addGrid(rf.maxBins, [20, 60])\n",
        "             .addGrid(rf.numTrees, [5, 20])\n",
        "             .build())"
      ],
      "execution_count": 31,
      "outputs": []
    },
    {
      "cell_type": "code",
      "metadata": {
        "id": "TArhi2VRd8Xe"
      },
      "source": [
        "cv2 = CrossValidator(estimator=rf, estimatorParamMaps=paramGrid, evaluator=evaluator, numFolds=5)"
      ],
      "execution_count": 32,
      "outputs": []
    },
    {
      "cell_type": "code",
      "metadata": {
        "id": "k6B417KXeFF4"
      },
      "source": [
        "pipeline = Pipeline(stages=[stringIndexer, encoder, labelToIndex, vecAssembler, cv2])\n",
        "pipelineModel = pipeline.fit(trainDF)\n",
        "predDF = pipelineModel.transform(testDF)"
      ],
      "execution_count": 33,
      "outputs": []
    },
    {
      "cell_type": "code",
      "metadata": {
        "colab": {
          "base_uri": "https://localhost:8080/"
        },
        "id": "5FtD3vDaeGfF",
        "outputId": "c6219dd5-8268-45af-f6a9-7fe376465ce6"
      },
      "source": [
        "bcEvaluator = BinaryClassificationEvaluator(metricName=\"areaUnderROC\")\n",
        "print(f\"Area under ROC curve: {bcEvaluator.evaluate(predDF)}\") \n",
        "mcEvaluator = MulticlassClassificationEvaluator(metricName=\"accuracy\")\n",
        "print(f\"Accuracy: {mcEvaluator.evaluate(predDF)}\")"
      ],
      "execution_count": 34,
      "outputs": [
        {
          "output_type": "stream",
          "text": [
            "Area under ROC curve: 0.8961945814730602\n",
            "Accuracy: 0.8426105717367853\n"
          ],
          "name": "stdout"
        }
      ]
    },
    {
      "cell_type": "markdown",
      "metadata": {
        "id": "YljGLAPFOZSG"
      },
      "source": [
        "**Gradient Boosted Tree**\n"
      ]
    },
    {
      "cell_type": "code",
      "metadata": {
        "id": "3Dz9UgOUe7dN"
      },
      "source": [
        "from pyspark.ml.classification import GBTClassifier"
      ],
      "execution_count": 35,
      "outputs": []
    },
    {
      "cell_type": "code",
      "metadata": {
        "id": "u6Mw9He4e7fp"
      },
      "source": [
        "gb = GBTClassifier(labelCol=\"label\", featuresCol=\"features\", maxIter=10)"
      ],
      "execution_count": 36,
      "outputs": []
    },
    {
      "cell_type": "code",
      "metadata": {
        "id": "XlOOiDqae7jI"
      },
      "source": [
        "pipeline = Pipeline(stages=[stringIndexer, encoder, labelToIndex, vecAssembler, gb])\n",
        "pipelineModel = pipeline.fit(trainDF) \n",
        "predDF = pipelineModel.transform(testDF)"
      ],
      "execution_count": 37,
      "outputs": []
    },
    {
      "cell_type": "code",
      "metadata": {
        "colab": {
          "base_uri": "https://localhost:8080/"
        },
        "id": "F4i1ILfJflkP",
        "outputId": "ed9f277b-6ed0-4ea0-985c-ca4e5660ec63"
      },
      "source": [
        "bcEvaluator = BinaryClassificationEvaluator(metricName=\"areaUnderROC\")\n",
        "print(f\"Area under ROC curve: {bcEvaluator.evaluate(predDF)}\") \n",
        "mcEvaluator = MulticlassClassificationEvaluator(metricName=\"accuracy\")\n",
        "print(f\"Accuracy: {mcEvaluator.evaluate(predDF)}\")"
      ],
      "execution_count": 38,
      "outputs": [
        {
          "output_type": "stream",
          "text": [
            "Area under ROC curve: 0.9079726059384944\n",
            "Accuracy: 0.8526968716289105\n"
          ],
          "name": "stdout"
        }
      ]
    },
    {
      "cell_type": "code",
      "metadata": {
        "id": "6-L2WBrpgGfj"
      },
      "source": [
        "gbparamGrid = (ParamGridBuilder()\n",
        "             .addGrid(gb.maxDepth, [2, 5, 10])\n",
        "             .addGrid(gb.maxBins, [10, 20, 40])\n",
        "             .addGrid(gb.maxIter, [5, 10, 20])\n",
        "             .build())"
      ],
      "execution_count": 39,
      "outputs": []
    },
    {
      "cell_type": "code",
      "metadata": {
        "id": "co5Q4xX4fwXN"
      },
      "source": [
        "evaluator = BinaryClassificationEvaluator()\n",
        "gbcv = CrossValidator(estimator = gb,\n",
        "                      estimatorParamMaps = gbparamGrid,\n",
        "                      evaluator = evaluator,\n",
        "                      numFolds = 5)"
      ],
      "execution_count": 41,
      "outputs": []
    },
    {
      "cell_type": "code",
      "metadata": {
        "id": "FPADlAM-gCdN"
      },
      "source": [
        "pipeline = Pipeline(stages=[stringIndexer, encoder, labelToIndex, vecAssembler, gbcv]) \n",
        "pipelineModel = pipeline.fit(trainDF)\n",
        "predDF = pipelineModel.transform(testDF)"
      ],
      "execution_count": 42,
      "outputs": []
    },
    {
      "cell_type": "code",
      "metadata": {
        "colab": {
          "base_uri": "https://localhost:8080/"
        },
        "id": "WRIgvmfMgc_W",
        "outputId": "60cf757f-3546-4130-db7a-029b153ff802"
      },
      "source": [
        "bcEvaluator = BinaryClassificationEvaluator(metricName=\"areaUnderROC\")\n",
        "print(f\"Area under ROC curve: {bcEvaluator.evaluate(predDF)}\") \n",
        "mcEvaluator = MulticlassClassificationEvaluator(metricName=\"accuracy\")\n",
        "print(f\"Accuracy: {mcEvaluator.evaluate(predDF)}\")"
      ],
      "execution_count": 43,
      "outputs": [
        {
          "output_type": "stream",
          "text": [
            "Area under ROC curve: 0.9465940637619236\n",
            "Accuracy: 0.8875943905070118\n"
          ],
          "name": "stdout"
        }
      ]
    },
    {
      "cell_type": "markdown",
      "metadata": {
        "id": "7QRP4gx_Ode0"
      },
      "source": [
        "**Naïve Bayes**"
      ]
    },
    {
      "cell_type": "code",
      "metadata": {
        "id": "HUSCFuubgy9N"
      },
      "source": [
        "from pyspark.ml.classification import NaiveBayes\n",
        "nb = NaiveBayes(labelCol=\"label\", featuresCol=\"features\")"
      ],
      "execution_count": 44,
      "outputs": []
    },
    {
      "cell_type": "code",
      "metadata": {
        "id": "ZiXFlP5XgzA5"
      },
      "source": [
        "pipeline = Pipeline(stages=[stringIndexer, encoder, labelToIndex, vecAssembler, nb])\n",
        "pipelineModel = pipeline.fit(trainDF)\n",
        "predDF = pipelineModel.transform(testDF)"
      ],
      "execution_count": 45,
      "outputs": []
    },
    {
      "cell_type": "code",
      "metadata": {
        "colab": {
          "base_uri": "https://localhost:8080/"
        },
        "id": "_Iaomy1Qhfu9",
        "outputId": "3d6c88c9-0f22-4987-b02e-df4ce871ce5c"
      },
      "source": [
        "from pyspark.ml.evaluation import BinaryClassificationEvaluator\n",
        "evaluator = BinaryClassificationEvaluator()\n",
        "bcEvaluator = BinaryClassificationEvaluator(metricName=\"areaUnderROC\")\n",
        "print(f\"Area under ROC curve: {bcEvaluator.evaluate(predDF)}\")\n",
        " \n",
        "mcEvaluator = MulticlassClassificationEvaluator(metricName=\"accuracy\")\n",
        "print(f\"Accuracy: {mcEvaluator.evaluate(predDF)}\")"
      ],
      "execution_count": 46,
      "outputs": [
        {
          "output_type": "stream",
          "text": [
            "Area under ROC curve: 0.37213811331269087\n",
            "Accuracy: 0.7788025889967638\n"
          ],
          "name": "stdout"
        }
      ]
    },
    {
      "cell_type": "code",
      "metadata": {
        "id": "fJYHLt9rgzN0"
      },
      "source": [
        "nbparamGrid = (ParamGridBuilder()\n",
        "               .addGrid(nb.smoothing, [0.0, 0.2, 0.4, 0.6, 0.8, 1.0])\n",
        "               .build())"
      ],
      "execution_count": 47,
      "outputs": []
    },
    {
      "cell_type": "code",
      "metadata": {
        "id": "zcrIk0IPiBQM"
      },
      "source": [
        "nbcv = CrossValidator(estimator = nb,\n",
        "                    estimatorParamMaps = nbparamGrid,\n",
        "                    evaluator = evaluator,\n",
        "                    numFolds = 5)"
      ],
      "execution_count": 48,
      "outputs": []
    },
    {
      "cell_type": "code",
      "metadata": {
        "id": "y4V3m5vUiHxE"
      },
      "source": [
        "pipeline = Pipeline(stages=[stringIndexer, encoder, labelToIndex, vecAssembler, nbcv])\n",
        "pipelineModel = pipeline.fit(trainDF)\n",
        "predDF = pipelineModel.transform(testDF)"
      ],
      "execution_count": 49,
      "outputs": []
    },
    {
      "cell_type": "code",
      "metadata": {
        "colab": {
          "base_uri": "https://localhost:8080/"
        },
        "id": "9uO5B3XJmVWe",
        "outputId": "a3d33e4b-5b52-48b8-8c20-afe518842278"
      },
      "source": [
        "bcEvaluator = BinaryClassificationEvaluator(metricName=\"areaUnderROC\")\n",
        "print(f\"Area under ROC curve: {bcEvaluator.evaluate(predDF)}\")\n",
        "mcEvaluator = MulticlassClassificationEvaluator(metricName=\"accuracy\")\n",
        "print(f\"Accuracy: {mcEvaluator.evaluate(predDF)}\")"
      ],
      "execution_count": 50,
      "outputs": [
        {
          "output_type": "stream",
          "text": [
            "Area under ROC curve: 0.37230287166498044\n",
            "Accuracy: 0.7788025889967638\n"
          ],
          "name": "stdout"
        }
      ]
    },
    {
      "cell_type": "markdown",
      "metadata": {
        "id": "9xVZEbcIOh9J"
      },
      "source": [
        "**LOGISTIC REGRESSION :-**\n",
        "\n",
        "**MODEL ACCURACY**\n",
        "Area under ROC curve: 0.8853\n",
        "Accuracy: 0.7660\n",
        "\n",
        "**IMPROVED ACCURACY**\n",
        "Area under ROC curve: 0.9034\n",
        "Accuracy: 0.8444"
      ]
    },
    {
      "cell_type": "markdown",
      "metadata": {
        "id": "XcdB3KXGPGbf"
      },
      "source": [
        "**DECISION TREE :**- \n",
        "\n",
        "**MODEL ACCURACY**\n",
        "Area under ROC curve: 0.5884\n",
        "Accuracy: 0.8386\n",
        "\n",
        "**IMPROVED ACCURACY**\n",
        "Area under ROC curve: 0.7483\n",
        "Accuracy: 0.8654\n"
      ]
    },
    {
      "cell_type": "markdown",
      "metadata": {
        "id": "MH70J5aBPsMu"
      },
      "source": [
        "**RANDOM FOREST:-**\n",
        "\n",
        "**MODEL ACCURACY**\n",
        "Area under ROC curve: 0.8841\n",
        "Accuracy: 0.8325\n",
        "\n",
        "**IMPROVED ACCURACY**\n",
        "Area under ROC curve: 0.8961\n",
        "Accuracy: 0.8426"
      ]
    },
    {
      "cell_type": "markdown",
      "metadata": {
        "id": "hkFrbm3ZQWe8"
      },
      "source": [
        "**GRADIENT BOOSTED TREE:-**\n",
        "\n",
        "**MODEL ACCURACY**\n",
        "Area under ROC curve: 0.9079\n",
        "Accuracy: 0.8526\n",
        "\n",
        "\n",
        "**IMPROVED ACCURACY**\n",
        "Area under ROC curve: 0.9465\n",
        "Accuracy: 0.8875\n",
        "\n"
      ]
    },
    {
      "cell_type": "markdown",
      "metadata": {
        "id": "A_N-X2dVQWqZ"
      },
      "source": [
        "**NAIVE BAYES:-**\n",
        "\n",
        "**MODEL ACCURACY**\n",
        "Area under ROC curve: 0.3721\n",
        "Accuracy: 0.7788\n",
        "\n",
        "**IMPROVED ACCURACY**\n",
        "Area under ROC curve: 0.3723\n",
        "Accuracy: 0.7788\n"
      ]
    },
    {
      "cell_type": "code",
      "metadata": {
        "id": "qpikypMqtTom"
      },
      "source": [
        "import pandas as pd\n",
        "import matplotlib.pyplot as plt"
      ],
      "execution_count": 3,
      "outputs": []
    },
    {
      "cell_type": "code",
      "metadata": {
        "id": "zG8uUkwqt3vy"
      },
      "source": [
        "data = [['LR',0.7660,0.8444],['RF',0.8325,0.8426],['GBT',0.8526,0.8875],['NB',0.7788,0.7788],['DT',0.8386,0.8654]]\n",
        "df = pd.DataFrame(data, columns = ['MODEL','ACC','IMPROVED_ACC'])"
      ],
      "execution_count": 12,
      "outputs": []
    },
    {
      "cell_type": "code",
      "metadata": {
        "colab": {
          "base_uri": "https://localhost:8080/",
          "height": 276
        },
        "id": "WgXFE9u7tuKT",
        "outputId": "deb18987-6017-4446-86f0-b6d788e8947d"
      },
      "source": [
        "df.plot.bar()  \n",
        "# plot between 2 attributes\n",
        "plt.xlabel(\"Accuarcy\")\n",
        "plt.ylabel(\"Improved_acc\")\n",
        "plt.show()"
      ],
      "execution_count": 18,
      "outputs": [
        {
          "output_type": "display_data",
          "data": {
            "image/png": "[encoded data removed]",
            "text/plain": [
              "<Figure size 432x288 with 1 Axes>"
            ]
          },
          "metadata": {
            "tags": [],
            "needs_background": "light"
          }
        }
      ]
    },
    {
      "cell_type": "markdown",
      "metadata": {
        "id": "NWxgyXQyyV6a"
      },
      "source": [
        "**Improved Accuracy:-**\n",
        "Having regularized hyperparameters in place provides the ability to control the flexibility of the model. This control prevents overfitting and reduction in predictive accuracy on new test data. When hyperparameters are also used for optimization and tuned for a specific dataset, they also impact predictive accuracy.\n",
        "\n",
        "Having regularized hyperparameters in place provides the ability to control the flexibility of the model. This control prevents overfitting and reduction in predictive accuracy on new test data. When hyperparameters are also used for optimization and tuned for a specific dataset, they also impact predictive accuracy."
      ]
    }
  ]
}