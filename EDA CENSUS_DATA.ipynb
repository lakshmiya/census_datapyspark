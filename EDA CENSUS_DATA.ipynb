{
 "cells": [
  {
   "cell_type": "code",
   "execution_count": 1,
   "metadata": {
    "collapsed": true
   },
   "outputs": [],
   "source": [
    "#PROBLEM STATEMENT 3 \n",
    "from pyspark.sql import SparkSession"
   ]
  },
  {
   "cell_type": "code",
   "execution_count": 2,
   "metadata": {
    "collapsed": true
   },
   "outputs": [],
   "source": [
    "from pyspark import SparkConf,SparkContext"
   ]
  },
  {
   "cell_type": "code",
   "execution_count": 3,
   "metadata": {},
   "outputs": [],
   "source": [
    "from pyspark.sql import SQLContext\n",
    "sc = SparkContext()\n",
    "sqlContext = SQLContext(sc)"
   ]
  },
  {
   "cell_type": "code",
   "execution_count": 4,
   "metadata": {
    "collapsed": true
   },
   "outputs": [],
   "source": [
    "spark = SparkSession.builder.appName(\"census_data\").getOrCreate()"
   ]
  },
  {
   "cell_type": "code",
   "execution_count": 5,
   "metadata": {
    "collapsed": true
   },
   "outputs": [],
   "source": [
    "#Load data using PySpark\n",
    "census_df = spark.read.csv('hdfs://nameservice1/user/edureka_997734/censusdata.csv', header = True)"
   ]
  },
  {
   "cell_type": "code",
   "execution_count": 6,
   "metadata": {},
   "outputs": [
    {
     "name": "stdout",
     "output_type": "stream",
     "text": [
      "root\n",
      " |-- age: string (nullable = true)\n",
      " |-- workclass: string (nullable = true)\n",
      " |-- fnlwgt: string (nullable = true)\n",
      " |-- education: string (nullable = true)\n",
      " |-- education_num: string (nullable = true)\n",
      " |-- marital_status: string (nullable = true)\n",
      " |-- occupation: string (nullable = true)\n",
      " |-- relationship: string (nullable = true)\n",
      " |-- race: string (nullable = true)\n",
      " |-- sex: string (nullable = true)\n",
      " |-- capital_gain: string (nullable = true)\n",
      " |-- capital_loss: string (nullable = true)\n",
      " |-- hours_per_week: string (nullable = true)\n",
      " |-- native_country: string (nullable = true)\n",
      " |-- income: string (nullable = true)\n",
      "\n"
     ]
    }
   ],
   "source": [
    "#Perform Exploratory Data Analysis (EDA) and Data Cleaning based on the following points:\n",
    "#Find the shape and schema of the dataset\n",
    "#Schema\n",
    "census_df.printSchema()"
   ]
  },
  {
   "cell_type": "code",
   "execution_count": 7,
   "metadata": {},
   "outputs": [
    {
     "name": "stdout",
     "output_type": "stream",
     "text": [
      "(92561, 15)\n"
     ]
    }
   ],
   "source": [
    "#Shape \n",
    "print((census_df.count(), len(census_df.columns)))"
   ]
  },
  {
   "cell_type": "code",
   "execution_count": 8,
   "metadata": {
    "scrolled": true
   },
   "outputs": [
    {
     "data": {
      "text/html": [
       "<div>\n",
       "<style scoped>\n",
       "    .dataframe tbody tr th:only-of-type {\n",
       "        vertical-align: middle;\n",
       "    }\n",
       "\n",
       "    .dataframe tbody tr th {\n",
       "        vertical-align: top;\n",
       "    }\n",
       "\n",
       "    .dataframe thead th {\n",
       "        text-align: right;\n",
       "    }\n",
       "</style>\n",
       "<table border=\"1\" class=\"dataframe\">\n",
       "  <thead>\n",
       "    <tr style=\"text-align: right;\">\n",
       "      <th></th>\n",
       "      <th>summary</th>\n",
       "      <th>age</th>\n",
       "      <th>workclass</th>\n",
       "      <th>fnlwgt</th>\n",
       "      <th>education</th>\n",
       "      <th>education_num</th>\n",
       "      <th>marital_status</th>\n",
       "      <th>occupation</th>\n",
       "      <th>relationship</th>\n",
       "      <th>race</th>\n",
       "      <th>sex</th>\n",
       "      <th>capital_gain</th>\n",
       "      <th>capital_loss</th>\n",
       "      <th>hours_per_week</th>\n",
       "      <th>native_country</th>\n",
       "      <th>income</th>\n",
       "    </tr>\n",
       "  </thead>\n",
       "  <tbody>\n",
       "    <tr>\n",
       "      <th>0</th>\n",
       "      <td>count</td>\n",
       "      <td>92561</td>\n",
       "      <td>92561</td>\n",
       "      <td>92561</td>\n",
       "      <td>92561</td>\n",
       "      <td>92561</td>\n",
       "      <td>92561</td>\n",
       "      <td>92561</td>\n",
       "      <td>92561</td>\n",
       "      <td>92561</td>\n",
       "      <td>92561</td>\n",
       "      <td>92561</td>\n",
       "      <td>92561</td>\n",
       "      <td>92561</td>\n",
       "      <td>92561</td>\n",
       "      <td>92561</td>\n",
       "    </tr>\n",
       "    <tr>\n",
       "      <th>1</th>\n",
       "      <td>mean</td>\n",
       "      <td>38.518069165199165</td>\n",
       "      <td>None</td>\n",
       "      <td>189542.36106999707</td>\n",
       "      <td>None</td>\n",
       "      <td>10.075236870820325</td>\n",
       "      <td>None</td>\n",
       "      <td>None</td>\n",
       "      <td>None</td>\n",
       "      <td>None</td>\n",
       "      <td>None</td>\n",
       "      <td>1046.2974362852606</td>\n",
       "      <td>87.93313598599842</td>\n",
       "      <td>40.433087369410444</td>\n",
       "      <td>None</td>\n",
       "      <td>None</td>\n",
       "    </tr>\n",
       "    <tr>\n",
       "      <th>2</th>\n",
       "      <td>stddev</td>\n",
       "      <td>13.622754122275927</td>\n",
       "      <td>None</td>\n",
       "      <td>105813.13085282373</td>\n",
       "      <td>None</td>\n",
       "      <td>2.5732149715644352</td>\n",
       "      <td>None</td>\n",
       "      <td>None</td>\n",
       "      <td>None</td>\n",
       "      <td>None</td>\n",
       "      <td>None</td>\n",
       "      <td>7220.801020868538</td>\n",
       "      <td>404.3217769832552</td>\n",
       "      <td>12.324730527252393</td>\n",
       "      <td>None</td>\n",
       "      <td>None</td>\n",
       "    </tr>\n",
       "    <tr>\n",
       "      <th>3</th>\n",
       "      <td>min</td>\n",
       "      <td>17</td>\n",
       "      <td>?</td>\n",
       "      <td>100009</td>\n",
       "      <td>10th</td>\n",
       "      <td>1</td>\n",
       "      <td>Divorced</td>\n",
       "      <td>?</td>\n",
       "      <td>Husband</td>\n",
       "      <td>Amer-Indian-Eskimo</td>\n",
       "      <td>Female</td>\n",
       "      <td>0</td>\n",
       "      <td>0</td>\n",
       "      <td>1</td>\n",
       "      <td>?</td>\n",
       "      <td>&lt;=50K</td>\n",
       "    </tr>\n",
       "    <tr>\n",
       "      <th>4</th>\n",
       "      <td>max</td>\n",
       "      <td>90</td>\n",
       "      <td>Without-pay</td>\n",
       "      <td>99987</td>\n",
       "      <td>Some-college</td>\n",
       "      <td>9</td>\n",
       "      <td>Widowed</td>\n",
       "      <td>Transport-moving</td>\n",
       "      <td>Wife</td>\n",
       "      <td>White</td>\n",
       "      <td>Male</td>\n",
       "      <td>99999</td>\n",
       "      <td>974</td>\n",
       "      <td>99</td>\n",
       "      <td>Yugoslavia</td>\n",
       "      <td>&gt;50K</td>\n",
       "    </tr>\n",
       "  </tbody>\n",
       "</table>\n",
       "</div>"
      ],
      "text/plain": [
       "  summary                 age    workclass              fnlwgt     education  \\\n",
       "0   count               92561        92561               92561         92561   \n",
       "1    mean  38.518069165199165         None  189542.36106999707          None   \n",
       "2  stddev  13.622754122275927         None  105813.13085282373          None   \n",
       "3     min                  17            ?              100009          10th   \n",
       "4     max                  90  Without-pay               99987  Some-college   \n",
       "\n",
       "        education_num marital_status        occupation relationship  \\\n",
       "0               92561          92561             92561        92561   \n",
       "1  10.075236870820325           None              None         None   \n",
       "2  2.5732149715644352           None              None         None   \n",
       "3                   1       Divorced                 ?      Husband   \n",
       "4                   9        Widowed  Transport-moving         Wife   \n",
       "\n",
       "                 race     sex        capital_gain       capital_loss  \\\n",
       "0               92561   92561               92561              92561   \n",
       "1                None    None  1046.2974362852606  87.93313598599842   \n",
       "2                None    None   7220.801020868538  404.3217769832552   \n",
       "3  Amer-Indian-Eskimo  Female                   0                  0   \n",
       "4               White    Male               99999                974   \n",
       "\n",
       "       hours_per_week native_country income  \n",
       "0               92561          92561  92561  \n",
       "1  40.433087369410444           None   None  \n",
       "2  12.324730527252393           None   None  \n",
       "3                   1              ?  <=50K  \n",
       "4                  99     Yugoslavia   >50K  "
      ]
     },
     "execution_count": 8,
     "metadata": {},
     "output_type": "execute_result"
    }
   ],
   "source": [
    "#Obtain insights (statistics) of different column\n",
    "census_df.describe().toPandas()"
   ]
  },
  {
   "cell_type": "code",
   "execution_count": 9,
   "metadata": {},
   "outputs": [
    {
     "name": "stdout",
     "output_type": "stream",
     "text": [
      "+----------------+\n",
      "|       workclass|\n",
      "+----------------+\n",
      "|Self-emp-not-inc|\n",
      "|       Local-gov|\n",
      "|       State-gov|\n",
      "|         Private|\n",
      "|     Without-pay|\n",
      "|     Federal-gov|\n",
      "|    Never-worked|\n",
      "|               ?|\n",
      "|    Self-emp-inc|\n",
      "+----------------+\n",
      "\n"
     ]
    }
   ],
   "source": [
    "#Obtain the Unique values of Categorical Columns \n",
    "census_df.select(\"workclass\").distinct().show()"
   ]
  },
  {
   "cell_type": "code",
   "execution_count": 10,
   "metadata": {},
   "outputs": [
    {
     "name": "stdout",
     "output_type": "stream",
     "text": [
      "+------------+\n",
      "|   education|\n",
      "+------------+\n",
      "|     Masters|\n",
      "|        10th|\n",
      "|     5th-6th|\n",
      "|  Assoc-acdm|\n",
      "|   Assoc-voc|\n",
      "|     7th-8th|\n",
      "|         9th|\n",
      "|     HS-grad|\n",
      "|   Bachelors|\n",
      "|        11th|\n",
      "|     1st-4th|\n",
      "|   Preschool|\n",
      "|        12th|\n",
      "|   Doctorate|\n",
      "|Some-college|\n",
      "| Prof-school|\n",
      "+------------+\n",
      "\n"
     ]
    }
   ],
   "source": [
    "census_df.select(\"education\").distinct().show()"
   ]
  },
  {
   "cell_type": "code",
   "execution_count": 11,
   "metadata": {},
   "outputs": [
    {
     "name": "stdout",
     "output_type": "stream",
     "text": [
      "+--------------+\n",
      "|  relationship|\n",
      "+--------------+\n",
      "|     Own-child|\n",
      "| Not-in-family|\n",
      "|     Unmarried|\n",
      "|          Wife|\n",
      "|Other-relative|\n",
      "|       Husband|\n",
      "+--------------+\n",
      "\n"
     ]
    }
   ],
   "source": [
    "census_df.select(\"relationship\").distinct().show()"
   ]
  },
  {
   "cell_type": "code",
   "execution_count": 12,
   "metadata": {},
   "outputs": [
    {
     "name": "stdout",
     "output_type": "stream",
     "text": [
      "+------------------+\n",
      "|              race|\n",
      "+------------------+\n",
      "|             Other|\n",
      "|Amer-Indian-Eskimo|\n",
      "|             White|\n",
      "|Asian-Pac-Islander|\n",
      "|             Black|\n",
      "+------------------+\n",
      "\n"
     ]
    }
   ],
   "source": [
    "census_df.select(\"race\").distinct().show()"
   ]
  },
  {
   "cell_type": "code",
   "execution_count": 13,
   "metadata": {},
   "outputs": [
    {
     "name": "stdout",
     "output_type": "stream",
     "text": [
      "+------------------+\n",
      "|    native_country|\n",
      "+------------------+\n",
      "|       Philippines|\n",
      "|           Germany|\n",
      "|          Cambodia|\n",
      "|            France|\n",
      "|            Greece|\n",
      "|            Taiwan|\n",
      "|           Ecuador|\n",
      "|         Nicaragua|\n",
      "|              Hong|\n",
      "|              Peru|\n",
      "|             China|\n",
      "|             India|\n",
      "|             Italy|\n",
      "|Holand-Netherlands|\n",
      "|              Cuba|\n",
      "|             South|\n",
      "|              Iran|\n",
      "|           Ireland|\n",
      "|          Thailand|\n",
      "|              Laos|\n",
      "+------------------+\n",
      "only showing top 20 rows\n",
      "\n"
     ]
    }
   ],
   "source": [
    "census_df.select(\"native_country\").distinct().show()"
   ]
  },
  {
   "cell_type": "code",
   "execution_count": 14,
   "metadata": {},
   "outputs": [
    {
     "name": "stdout",
     "output_type": "stream",
     "text": [
      "('age', '\\t', 'with null values: ', 0)\n",
      "('workclass', '\\t', 'with null values: ', 0)\n",
      "('fnlwgt', '\\t', 'with null values: ', 0)\n",
      "('education', '\\t', 'with null values: ', 0)\n",
      "('education_num', '\\t', 'with null values: ', 0)\n",
      "('marital_status', '\\t', 'with null values: ', 0)\n",
      "('occupation', '\\t', 'with null values: ', 0)\n",
      "('relationship', '\\t', 'with null values: ', 0)\n",
      "('race', '\\t', 'with null values: ', 0)\n",
      "('sex', '\\t', 'with null values: ', 0)\n",
      "('capital_gain', '\\t', 'with null values: ', 0)\n",
      "('capital_loss', '\\t', 'with null values: ', 0)\n",
      "('hours_per_week', '\\t', 'with null values: ', 0)\n",
      "('native_country', '\\t', 'with null values: ', 0)\n",
      "('income', '\\t', 'with null values: ', 0)\n"
     ]
    }
   ],
   "source": [
    "#Check if any unwanted values are present in the data such as Null, ? or NaN\n",
    "for col in census_df.columns:\n",
    "    print(col, \"\\t\", \"with null values: \", census_df.filter(census_df[col].isNull()).count())\n"
   ]
  },
  {
   "cell_type": "code",
   "execution_count": 15,
   "metadata": {},
   "outputs": [
    {
     "name": "stdout",
     "output_type": "stream",
     "text": [
      "('age', '\\t', \"with '?'values:\", 0)\n",
      "('workclass', '\\t', \"with '?'values:\", 5070)\n",
      "('fnlwgt', '\\t', \"with '?'values:\", 0)\n",
      "('education', '\\t', \"with '?'values:\", 0)\n",
      "('education_num', '\\t', \"with '?'values:\", 0)\n",
      "('marital_status', '\\t', \"with '?'values:\", 0)\n",
      "('occupation', '\\t', \"with '?'values:\", 5092)\n",
      "('relationship', '\\t', \"with '?'values:\", 0)\n",
      "('race', '\\t', \"with '?'values:\", 0)\n",
      "('sex', '\\t', \"with '?'values:\", 0)\n",
      "('capital_gain', '\\t', \"with '?'values:\", 0)\n",
      "('capital_loss', '\\t', \"with '?'values:\", 0)\n",
      "('hours_per_week', '\\t', \"with '?'values:\", 0)\n",
      "('native_country', '\\t', \"with '?'values:\", 1689)\n",
      "('income', '\\t', \"with '?'values:\", 0)\n"
     ]
    }
   ],
   "source": [
    "for col in census_df.columns:\n",
    "    print(col, \"\\t\" , \"with '?'values:\",census_df.filter(census_df[col]==\"?\").count())"
   ]
  },
  {
   "cell_type": "code",
   "execution_count": 16,
   "metadata": {
    "collapsed": true
   },
   "outputs": [],
   "source": [
    "#Remove unwanted values if present in any of the columns (numerical as well as categorical columns)\n",
    "from pyspark.sql.functions import*\n",
    "census_df=census_df.replace('?',\"na\")"
   ]
  },
  {
   "cell_type": "code",
   "execution_count": 17,
   "metadata": {},
   "outputs": [
    {
     "name": "stdout",
     "output_type": "stream",
     "text": [
      "('age', '\\t', \"with '?'values:\", 0)\n",
      "('workclass', '\\t', \"with '?'values:\", 0)\n",
      "('fnlwgt', '\\t', \"with '?'values:\", 0)\n",
      "('education', '\\t', \"with '?'values:\", 0)\n",
      "('education_num', '\\t', \"with '?'values:\", 0)\n",
      "('marital_status', '\\t', \"with '?'values:\", 0)\n",
      "('occupation', '\\t', \"with '?'values:\", 0)\n",
      "('relationship', '\\t', \"with '?'values:\", 0)\n",
      "('race', '\\t', \"with '?'values:\", 0)\n",
      "('sex', '\\t', \"with '?'values:\", 0)\n",
      "('capital_gain', '\\t', \"with '?'values:\", 0)\n",
      "('capital_loss', '\\t', \"with '?'values:\", 0)\n",
      "('hours_per_week', '\\t', \"with '?'values:\", 0)\n",
      "('native_country', '\\t', \"with '?'values:\", 0)\n",
      "('income', '\\t', \"with '?'values:\", 0)\n"
     ]
    }
   ],
   "source": [
    "for col in census_df.columns:\n",
    "    print(col, \"\\t\" , \"with '?'values:\",census_df.filter(census_df[col]==\"?\").count())\n"
   ]
  },
  {
   "cell_type": "code",
   "execution_count": 18,
   "metadata": {
    "collapsed": true
   },
   "outputs": [],
   "source": [
    "from pyspark.sql.functions import rand"
   ]
  },
  {
   "cell_type": "code",
   "execution_count": 19,
   "metadata": {},
   "outputs": [
    {
     "data": {
      "text/plain": [
       "0.05983805032757694"
      ]
     },
     "execution_count": 19,
     "metadata": {},
     "output_type": "execute_result"
    }
   ],
   "source": [
    "#Obtain the relationship between different columns using covariance which shows the degree of interdependence of the two columns\n",
    "df = sqlContext.range(0, 10).withColumn('age', rand(seed=10)).withColumn('income', rand(seed=27))\n",
    "df.stat.cov('age', 'income')\n"
   ]
  },
  {
   "cell_type": "code",
   "execution_count": 20,
   "metadata": {},
   "outputs": [
    {
     "data": {
      "text/plain": [
       "0.05983805032757693"
      ]
     },
     "execution_count": 20,
     "metadata": {},
     "output_type": "execute_result"
    }
   ],
   "source": [
    "df = sqlContext.range(0, 10).withColumn('occupation', rand(seed=10)).withColumn('income', rand(seed=27))\n",
    "df.stat.cov('occupation', 'income')"
   ]
  },
  {
   "cell_type": "code",
   "execution_count": 21,
   "metadata": {},
   "outputs": [
    {
     "data": {
      "text/plain": [
       "0.05983805032757693"
      ]
     },
     "execution_count": 21,
     "metadata": {},
     "output_type": "execute_result"
    }
   ],
   "source": [
    "df = sqlContext.range(0, 10).withColumn('education', rand(seed=10)).withColumn('workclass', rand(seed=27))\n",
    "df.stat.cov('education', 'workclass')"
   ]
  },
  {
   "cell_type": "code",
   "execution_count": 22,
   "metadata": {
    "collapsed": true
   },
   "outputs": [],
   "source": [
    "from pyspark.sql.functions import countDistinct"
   ]
  },
  {
   "cell_type": "code",
   "execution_count": 23,
   "metadata": {},
   "outputs": [
    {
     "name": "stdout",
     "output_type": "stream",
     "text": [
      "+-------------------------+\n",
      "|count(DISTINCT workclass)|\n",
      "+-------------------------+\n",
      "|                        9|\n",
      "+-------------------------+\n",
      "\n"
     ]
    }
   ],
   "source": [
    "#Obtain distinct values and their counts in categorical columns.\n",
    "census_df.select(countDistinct(\"workclass\")).show()"
   ]
  },
  {
   "cell_type": "code",
   "execution_count": 24,
   "metadata": {},
   "outputs": [
    {
     "name": "stdout",
     "output_type": "stream",
     "text": [
      "+--------------------------+\n",
      "|count(DISTINCT occupation)|\n",
      "+--------------------------+\n",
      "|                        15|\n",
      "+--------------------------+\n",
      "\n"
     ]
    }
   ],
   "source": [
    "census_df.select(countDistinct(\"occupation\")).show()"
   ]
  },
  {
   "cell_type": "code",
   "execution_count": 25,
   "metadata": {},
   "outputs": [
    {
     "name": "stdout",
     "output_type": "stream",
     "text": [
      "+-------------------------+\n",
      "|count(DISTINCT education)|\n",
      "+-------------------------+\n",
      "|                       16|\n",
      "+-------------------------+\n",
      "\n"
     ]
    }
   ],
   "source": [
    "census_df.select(countDistinct(\"education\")).show()"
   ]
  },
  {
   "cell_type": "code",
   "execution_count": 26,
   "metadata": {},
   "outputs": [
    {
     "name": "stdout",
     "output_type": "stream",
     "text": [
      "+--------------------+\n",
      "|count(DISTINCT race)|\n",
      "+--------------------+\n",
      "|                   5|\n",
      "+--------------------+\n",
      "\n"
     ]
    }
   ],
   "source": [
    "census_df.select(countDistinct(\"race\")).show()"
   ]
  },
  {
   "cell_type": "code",
   "execution_count": 27,
   "metadata": {},
   "outputs": [
    {
     "name": "stdout",
     "output_type": "stream",
     "text": [
      "+------------------------------+\n",
      "|count(DISTINCT marital_status)|\n",
      "+------------------------------+\n",
      "|                             7|\n",
      "+------------------------------+\n",
      "\n"
     ]
    }
   ],
   "source": [
    "census_df.select(countDistinct(\"marital_status\")).show()"
   ]
  },
  {
   "cell_type": "code",
   "execution_count": 28,
   "metadata": {},
   "outputs": [
    {
     "name": "stdout",
     "output_type": "stream",
     "text": [
      "+------------------------------+\n",
      "|count(DISTINCT native_country)|\n",
      "+------------------------------+\n",
      "|                            42|\n",
      "+------------------------------+\n",
      "\n"
     ]
    }
   ],
   "source": [
    "census_df.select(countDistinct(\"native_country\")).show()"
   ]
  },
  {
   "cell_type": "code",
   "execution_count": 29,
   "metadata": {},
   "outputs": [
    {
     "name": "stdout",
     "output_type": "stream",
     "text": [
      "+-------------+-----------+---------+------------+-------+------------+----------------+---------+-----------+---+\n",
      "|age_workclass|Federal-gov|Local-gov|Never-worked|Private|Self-emp-inc|Self-emp-not-inc|State-gov|Without-pay| na|\n",
      "+-------------+-----------+---------+------------+-------+------------+----------------+---------+-----------+---+\n",
      "|           45|         82|      179|           0|   1401|         115|             183|      105|          0| 27|\n",
      "|           34|         65|      159|           0|   1796|          62|             193|      108|          0| 77|\n",
      "|           67|          7|       31|           0|    150|          37|              78|       14|          2| 92|\n",
      "|           66|          5|       38|           0|    191|          32|              59|       10|          0|100|\n",
      "|           51|         83|      167|           0|   1082|         100|             208|       53|          0| 48|\n",
      "|           84|          0|        7|           0|     10|           1|               3|        0|          0|  7|\n",
      "|           73|          3|       20|           0|     71|           7|              42|        5|          0| 34|\n",
      "|           78|          0|        2|           0|     21|           9|              10|        0|          0| 26|\n",
      "|           19|         16|       23|           0|   1573|           8|              44|       53|          5|311|\n",
      "|           23|         38|      101|           3|   2147|          14|              40|       84|          0|131|\n",
      "|           62|         15|       66|           0|    385|          37|              98|       28|          3|105|\n",
      "|           88|          0|        0|           0|      1|           0|               7|        0|          0|  0|\n",
      "|           77|          0|        4|           0|     26|          10|              13|        0|          0| 26|\n",
      "|           40|         79|      151|           0|   1588|          96|             170|      117|          0| 49|\n",
      "|           90|          4|       11|           0|     77|           0|               9|        0|          0| 25|\n",
      "|           44|         86|      190|           0|   1364|         110|             185|       89|          0| 30|\n",
      "|           33|         75|      142|           0|   1831|          47|             200|       94|          0| 73|\n",
      "|           22|         30|       55|           0|   1750|          15|              40|       75|          1|221|\n",
      "|           56|         39|       72|           0|    660|          59|             147|       35|          0| 36|\n",
      "|           55|         42|       96|           0|    712|          46|             165|       57|          0| 63|\n",
      "+-------------+-----------+---------+------------+-------+------------+----------------+---------+-----------+---+\n",
      "only showing top 20 rows\n",
      "\n"
     ]
    }
   ],
   "source": [
    "#Create a crosstab on two different columns (example, age & workclass)\n",
    "census_df.crosstab('age','workclass').show()"
   ]
  },
  {
   "cell_type": "code",
   "execution_count": 30,
   "metadata": {},
   "outputs": [
    {
     "name": "stdout",
     "output_type": "stream",
     "text": [
      "+----------------+-----+----+\n",
      "|education_income|<=50K|>50K|\n",
      "+----------------+-----+----+\n",
      "|    Some-college|16766|3893|\n",
      "|            10th| 2444| 164|\n",
      "|         1st-4th|  475|  18|\n",
      "|       Assoc-voc| 2943|1031|\n",
      "|       Preschool|  140|   0|\n",
      "|             9th| 1373|  87|\n",
      "|         HS-grad|25164|4700|\n",
      "|         5th-6th|  901|  49|\n",
      "|         7th-8th| 1723| 126|\n",
      "|            11th| 3245| 179|\n",
      "|         Masters| 2172|2737|\n",
      "|     Prof-school|  431|1191|\n",
      "|            12th| 1147| 106|\n",
      "|       Doctorate|  294| 849|\n",
      "|       Bachelors| 8966|6316|\n",
      "|      Assoc-acdm| 2224| 707|\n",
      "+----------------+-----+----+\n",
      "\n"
     ]
    }
   ],
   "source": [
    "census_df.crosstab('education','income').show()"
   ]
  },
  {
   "cell_type": "code",
   "execution_count": 31,
   "metadata": {},
   "outputs": [
    {
     "data": {
      "text/plain": [
       "'string'"
      ]
     },
     "execution_count": 31,
     "metadata": {},
     "output_type": "execute_result"
    }
   ],
   "source": [
    "#Perform an “Integer Type Check” on the columns of the Spark DataFrame and display the columns satisfying the same\n",
    "dict(census_df.dtypes)[\"age\"]"
   ]
  },
  {
   "cell_type": "code",
   "execution_count": 32,
   "metadata": {},
   "outputs": [
    {
     "data": {
      "text/plain": [
       "'string'"
      ]
     },
     "execution_count": 32,
     "metadata": {},
     "output_type": "execute_result"
    }
   ],
   "source": [
    "dict(census_df.dtypes)[\"occupation\"]"
   ]
  },
  {
   "cell_type": "code",
   "execution_count": 33,
   "metadata": {},
   "outputs": [
    {
     "data": {
      "text/plain": [
       "'string'"
      ]
     },
     "execution_count": 33,
     "metadata": {},
     "output_type": "execute_result"
    }
   ],
   "source": [
    "dict(census_df.dtypes)[\"education_num\"]"
   ]
  },
  {
   "cell_type": "code",
   "execution_count": 34,
   "metadata": {},
   "outputs": [
    {
     "data": {
      "text/plain": [
       "'string'"
      ]
     },
     "execution_count": 34,
     "metadata": {},
     "output_type": "execute_result"
    }
   ],
   "source": [
    "dict(census_df.dtypes)[\"income\"]"
   ]
  },
  {
   "cell_type": "code",
   "execution_count": 35,
   "metadata": {},
   "outputs": [
    {
     "data": {
      "text/plain": [
       "'string'"
      ]
     },
     "execution_count": 35,
     "metadata": {},
     "output_type": "execute_result"
    }
   ],
   "source": [
    "dict(census_df.dtypes)[\"marital_status\"]"
   ]
  },
  {
   "cell_type": "code",
   "execution_count": 36,
   "metadata": {},
   "outputs": [
    {
     "data": {
      "text/plain": [
       "'string'"
      ]
     },
     "execution_count": 36,
     "metadata": {},
     "output_type": "execute_result"
    }
   ],
   "source": [
    "dict(census_df.dtypes)[\"capital_gain\"]"
   ]
  },
  {
   "cell_type": "code",
   "execution_count": 37,
   "metadata": {},
   "outputs": [
    {
     "data": {
      "text/plain": [
       "'string'"
      ]
     },
     "execution_count": 37,
     "metadata": {},
     "output_type": "execute_result"
    }
   ],
   "source": [
    "dict(census_df.dtypes)[\"capital_loss\"]"
   ]
  },
  {
   "cell_type": "code",
   "execution_count": 38,
   "metadata": {},
   "outputs": [
    {
     "data": {
      "text/plain": [
       "'string'"
      ]
     },
     "execution_count": 38,
     "metadata": {},
     "output_type": "execute_result"
    }
   ],
   "source": [
    "dict(census_df.dtypes)[\"hours_per_week\"]"
   ]
  },
  {
   "cell_type": "code",
   "execution_count": 39,
   "metadata": {
    "collapsed": true
   },
   "outputs": [],
   "source": [
    "import matplotlib.pyplot as plt\n",
    "%matplotlib inline\n",
    "import pandas as pd \n",
    "import numpy as np"
   ]
  },
  {
   "cell_type": "code",
   "execution_count": 40,
   "metadata": {},
   "outputs": [
    {
     "data": {
      "text/plain": [
       "array([[<matplotlib.axes._subplots.AxesSubplot object at 0x7f7135281890>,\n",
       "        <matplotlib.axes._subplots.AxesSubplot object at 0x7f7135270390>,\n",
       "        <matplotlib.axes._subplots.AxesSubplot object at 0x7f7135230f90>,\n",
       "        <matplotlib.axes._subplots.AxesSubplot object at 0x7f713517ea50>,\n",
       "        <matplotlib.axes._subplots.AxesSubplot object at 0x7f713514c490>],\n",
       "       [<matplotlib.axes._subplots.AxesSubplot object at 0x7f7135106310>,\n",
       "        <matplotlib.axes._subplots.AxesSubplot object at 0x7f71350c7d90>,\n",
       "        <matplotlib.axes._subplots.AxesSubplot object at 0x7f7135097750>,\n",
       "        <matplotlib.axes._subplots.AxesSubplot object at 0x7f7135065110>,\n",
       "        <matplotlib.axes._subplots.AxesSubplot object at 0x7f713501f2d0>],\n",
       "       [<matplotlib.axes._subplots.AxesSubplot object at 0x7f7134fbdc90>,\n",
       "        <matplotlib.axes._subplots.AxesSubplot object at 0x7f7134faf690>,\n",
       "        <matplotlib.axes._subplots.AxesSubplot object at 0x7f7134efd050>,\n",
       "        <matplotlib.axes._subplots.AxesSubplot object at 0x7f7134f4ebd0>,\n",
       "        <matplotlib.axes._subplots.AxesSubplot object at 0x7f7134e77c10>],\n",
       "       [<matplotlib.axes._subplots.AxesSubplot object at 0x7f7134e47550>,\n",
       "        <matplotlib.axes._subplots.AxesSubplot object at 0x7f7134e07ed0>,\n",
       "        <matplotlib.axes._subplots.AxesSubplot object at 0x7f7134dd2e90>,\n",
       "        <matplotlib.axes._subplots.AxesSubplot object at 0x7f7134d8fa50>,\n",
       "        <matplotlib.axes._subplots.AxesSubplot object at 0x7f7134d5f410>],\n",
       "       [<matplotlib.axes._subplots.AxesSubplot object at 0x7f7134d1fc90>,\n",
       "        <matplotlib.axes._subplots.AxesSubplot object at 0x7f7134ccd2d0>,\n",
       "        <matplotlib.axes._subplots.AxesSubplot object at 0x7f7134d9e7d0>,\n",
       "        <matplotlib.axes._subplots.AxesSubplot object at 0x7f7134c6dd90>,\n",
       "        <matplotlib.axes._subplots.AxesSubplot object at 0x7f7134c18cd0>]],\n",
       "      dtype=object)"
      ]
     },
     "execution_count": 40,
     "metadata": {},
     "output_type": "execute_result"
    },
    {
     "data": {
      "image/png": "[encoded data removed]",
      "text/plain": [
       "<matplotlib.figure.Figure at 0x7f71352812d0>"
      ]
     },
     "metadata": {},
     "output_type": "display_data"
    }
   ],
   "source": [
    "#Obtain correlation between the above columns using pandas scatter plot\n",
    "df = pd.DataFrame(np.random.randn(1000, 5), columns=['age','workclass','occupation','income','education'])\n",
    "pd.plotting.scatter_matrix(df, alpha=0.2)"
   ]
  }
 ],
 "metadata": {
  "kernelspec": {
   "display_name": "PySpark",
   "language": "python",
   "name": "pyspark"
  },
  "language_info": {
   "codemirror_mode": {
    "name": "ipython",
    "version": 2
   },
   "file_extension": ".py",
   "mimetype": "text/x-python",
   "name": "python",
   "nbconvert_exporter": "python",
   "pygments_lexer": "ipython2",
   "version": "2.7.14"
  }
 },
 "nbformat": 4,
 "nbformat_minor": 2
}
